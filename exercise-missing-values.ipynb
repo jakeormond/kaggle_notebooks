{
 "cells": [
  {
   "cell_type": "markdown",
   "id": "0ce8184c",
   "metadata": {
    "papermill": {
     "duration": 0.011938,
     "end_time": "2024-01-25T20:37:12.388839",
     "exception": false,
     "start_time": "2024-01-25T20:37:12.376901",
     "status": "completed"
    },
    "tags": []
   },
   "source": [
    "**This notebook is an exercise in the [Intermediate Machine Learning](https://www.kaggle.com/learn/intermediate-machine-learning) course.  You can reference the tutorial at [this link](https://www.kaggle.com/alexisbcook/missing-values).**\n",
    "\n",
    "---\n"
   ]
  },
  {
   "cell_type": "markdown",
   "id": "3515e59d",
   "metadata": {
    "papermill": {
     "duration": 0.010981,
     "end_time": "2024-01-25T20:37:12.411410",
     "exception": false,
     "start_time": "2024-01-25T20:37:12.400429",
     "status": "completed"
    },
    "tags": []
   },
   "source": [
    "Now it's your turn to test your new knowledge of **missing values** handling. You'll probably find it makes a big difference.\n",
    "\n",
    "# Setup\n",
    "\n",
    "The questions will give you feedback on your work. Run the following cell to set up the feedback system."
   ]
  },
  {
   "cell_type": "code",
   "execution_count": 1,
   "id": "04334bfc",
   "metadata": {
    "execution": {
     "iopub.execute_input": "2024-01-25T20:37:12.437464Z",
     "iopub.status.busy": "2024-01-25T20:37:12.436582Z",
     "iopub.status.idle": "2024-01-25T20:37:12.928692Z",
     "shell.execute_reply": "2024-01-25T20:37:12.927148Z"
    },
    "papermill": {
     "duration": 0.508763,
     "end_time": "2024-01-25T20:37:12.931511",
     "exception": false,
     "start_time": "2024-01-25T20:37:12.422748",
     "status": "completed"
    },
    "tags": []
   },
   "outputs": [
    {
     "name": "stdout",
     "output_type": "stream",
     "text": [
      "Setup Complete\n"
     ]
    }
   ],
   "source": [
    "# Set up code checking\n",
    "import os\n",
    "if not os.path.exists(\"../input/train.csv\"):\n",
    "    os.symlink(\"../input/home-data-for-ml-course/train.csv\", \"../input/train.csv\")  \n",
    "    os.symlink(\"../input/home-data-for-ml-course/test.csv\", \"../input/test.csv\") \n",
    "from learntools.core import binder\n",
    "binder.bind(globals())\n",
    "from learntools.ml_intermediate.ex2 import *\n",
    "print(\"Setup Complete\")"
   ]
  },
  {
   "cell_type": "markdown",
   "id": "3d2f5a87",
   "metadata": {
    "papermill": {
     "duration": 0.011282,
     "end_time": "2024-01-25T20:37:12.955066",
     "exception": false,
     "start_time": "2024-01-25T20:37:12.943784",
     "status": "completed"
    },
    "tags": []
   },
   "source": [
    "In this exercise, you will work with data from the [Housing Prices Competition for Kaggle Learn Users](https://www.kaggle.com/c/home-data-for-ml-course). \n",
    "\n",
    "![Ames Housing dataset image](https://storage.googleapis.com/kaggle-media/learn/images/lTJVG4e.png)\n",
    "\n",
    "Run the next code cell without changes to load the training and validation sets in `X_train`, `X_valid`, `y_train`, and `y_valid`.  The test set is loaded in `X_test`."
   ]
  },
  {
   "cell_type": "code",
   "execution_count": 2,
   "id": "46c99a2c",
   "metadata": {
    "execution": {
     "iopub.execute_input": "2024-01-25T20:37:12.980140Z",
     "iopub.status.busy": "2024-01-25T20:37:12.979635Z",
     "iopub.status.idle": "2024-01-25T20:37:14.595949Z",
     "shell.execute_reply": "2024-01-25T20:37:14.594625Z"
    },
    "papermill": {
     "duration": 1.632355,
     "end_time": "2024-01-25T20:37:14.599012",
     "exception": false,
     "start_time": "2024-01-25T20:37:12.966657",
     "status": "completed"
    },
    "tags": []
   },
   "outputs": [],
   "source": [
    "import pandas as pd\n",
    "from sklearn.model_selection import train_test_split\n",
    "\n",
    "# Read the data\n",
    "X_full = pd.read_csv('../input/train.csv', index_col='Id')\n",
    "X_test_full = pd.read_csv('../input/test.csv', index_col='Id')\n",
    "\n",
    "# Remove rows with missing target, separate target from predictors\n",
    "X_full.dropna(axis=0, subset=['SalePrice'], inplace=True)\n",
    "y = X_full.SalePrice\n",
    "X_full.drop(['SalePrice'], axis=1, inplace=True)\n",
    "\n",
    "# To keep things simple, we'll use only numerical predictors\n",
    "X = X_full.select_dtypes(exclude=['object'])\n",
    "X_test = X_test_full.select_dtypes(exclude=['object'])\n",
    "\n",
    "# Break off validation set from training data\n",
    "X_train, X_valid, y_train, y_valid = train_test_split(X, y, train_size=0.8, test_size=0.2,\n",
    "                                                      random_state=0)"
   ]
  },
  {
   "cell_type": "markdown",
   "id": "afa84722",
   "metadata": {
    "papermill": {
     "duration": 0.011194,
     "end_time": "2024-01-25T20:37:14.622201",
     "exception": false,
     "start_time": "2024-01-25T20:37:14.611007",
     "status": "completed"
    },
    "tags": []
   },
   "source": [
    "Use the next code cell to print the first five rows of the data."
   ]
  },
  {
   "cell_type": "code",
   "execution_count": 3,
   "id": "01695e2c",
   "metadata": {
    "execution": {
     "iopub.execute_input": "2024-01-25T20:37:14.648526Z",
     "iopub.status.busy": "2024-01-25T20:37:14.648093Z",
     "iopub.status.idle": "2024-01-25T20:37:14.677975Z",
     "shell.execute_reply": "2024-01-25T20:37:14.676769Z"
    },
    "papermill": {
     "duration": 0.046931,
     "end_time": "2024-01-25T20:37:14.680639",
     "exception": false,
     "start_time": "2024-01-25T20:37:14.633708",
     "status": "completed"
    },
    "tags": []
   },
   "outputs": [
    {
     "data": {
      "text/html": [
       "<div>\n",
       "<style scoped>\n",
       "    .dataframe tbody tr th:only-of-type {\n",
       "        vertical-align: middle;\n",
       "    }\n",
       "\n",
       "    .dataframe tbody tr th {\n",
       "        vertical-align: top;\n",
       "    }\n",
       "\n",
       "    .dataframe thead th {\n",
       "        text-align: right;\n",
       "    }\n",
       "</style>\n",
       "<table border=\"1\" class=\"dataframe\">\n",
       "  <thead>\n",
       "    <tr style=\"text-align: right;\">\n",
       "      <th></th>\n",
       "      <th>MSSubClass</th>\n",
       "      <th>LotFrontage</th>\n",
       "      <th>LotArea</th>\n",
       "      <th>OverallQual</th>\n",
       "      <th>OverallCond</th>\n",
       "      <th>YearBuilt</th>\n",
       "      <th>YearRemodAdd</th>\n",
       "      <th>MasVnrArea</th>\n",
       "      <th>BsmtFinSF1</th>\n",
       "      <th>BsmtFinSF2</th>\n",
       "      <th>...</th>\n",
       "      <th>GarageArea</th>\n",
       "      <th>WoodDeckSF</th>\n",
       "      <th>OpenPorchSF</th>\n",
       "      <th>EnclosedPorch</th>\n",
       "      <th>3SsnPorch</th>\n",
       "      <th>ScreenPorch</th>\n",
       "      <th>PoolArea</th>\n",
       "      <th>MiscVal</th>\n",
       "      <th>MoSold</th>\n",
       "      <th>YrSold</th>\n",
       "    </tr>\n",
       "    <tr>\n",
       "      <th>Id</th>\n",
       "      <th></th>\n",
       "      <th></th>\n",
       "      <th></th>\n",
       "      <th></th>\n",
       "      <th></th>\n",
       "      <th></th>\n",
       "      <th></th>\n",
       "      <th></th>\n",
       "      <th></th>\n",
       "      <th></th>\n",
       "      <th></th>\n",
       "      <th></th>\n",
       "      <th></th>\n",
       "      <th></th>\n",
       "      <th></th>\n",
       "      <th></th>\n",
       "      <th></th>\n",
       "      <th></th>\n",
       "      <th></th>\n",
       "      <th></th>\n",
       "      <th></th>\n",
       "    </tr>\n",
       "  </thead>\n",
       "  <tbody>\n",
       "    <tr>\n",
       "      <th>619</th>\n",
       "      <td>20</td>\n",
       "      <td>90.0</td>\n",
       "      <td>11694</td>\n",
       "      <td>9</td>\n",
       "      <td>5</td>\n",
       "      <td>2007</td>\n",
       "      <td>2007</td>\n",
       "      <td>452.0</td>\n",
       "      <td>48</td>\n",
       "      <td>0</td>\n",
       "      <td>...</td>\n",
       "      <td>774</td>\n",
       "      <td>0</td>\n",
       "      <td>108</td>\n",
       "      <td>0</td>\n",
       "      <td>0</td>\n",
       "      <td>260</td>\n",
       "      <td>0</td>\n",
       "      <td>0</td>\n",
       "      <td>7</td>\n",
       "      <td>2007</td>\n",
       "    </tr>\n",
       "    <tr>\n",
       "      <th>871</th>\n",
       "      <td>20</td>\n",
       "      <td>60.0</td>\n",
       "      <td>6600</td>\n",
       "      <td>5</td>\n",
       "      <td>5</td>\n",
       "      <td>1962</td>\n",
       "      <td>1962</td>\n",
       "      <td>0.0</td>\n",
       "      <td>0</td>\n",
       "      <td>0</td>\n",
       "      <td>...</td>\n",
       "      <td>308</td>\n",
       "      <td>0</td>\n",
       "      <td>0</td>\n",
       "      <td>0</td>\n",
       "      <td>0</td>\n",
       "      <td>0</td>\n",
       "      <td>0</td>\n",
       "      <td>0</td>\n",
       "      <td>8</td>\n",
       "      <td>2009</td>\n",
       "    </tr>\n",
       "    <tr>\n",
       "      <th>93</th>\n",
       "      <td>30</td>\n",
       "      <td>80.0</td>\n",
       "      <td>13360</td>\n",
       "      <td>5</td>\n",
       "      <td>7</td>\n",
       "      <td>1921</td>\n",
       "      <td>2006</td>\n",
       "      <td>0.0</td>\n",
       "      <td>713</td>\n",
       "      <td>0</td>\n",
       "      <td>...</td>\n",
       "      <td>432</td>\n",
       "      <td>0</td>\n",
       "      <td>0</td>\n",
       "      <td>44</td>\n",
       "      <td>0</td>\n",
       "      <td>0</td>\n",
       "      <td>0</td>\n",
       "      <td>0</td>\n",
       "      <td>8</td>\n",
       "      <td>2009</td>\n",
       "    </tr>\n",
       "    <tr>\n",
       "      <th>818</th>\n",
       "      <td>20</td>\n",
       "      <td>NaN</td>\n",
       "      <td>13265</td>\n",
       "      <td>8</td>\n",
       "      <td>5</td>\n",
       "      <td>2002</td>\n",
       "      <td>2002</td>\n",
       "      <td>148.0</td>\n",
       "      <td>1218</td>\n",
       "      <td>0</td>\n",
       "      <td>...</td>\n",
       "      <td>857</td>\n",
       "      <td>150</td>\n",
       "      <td>59</td>\n",
       "      <td>0</td>\n",
       "      <td>0</td>\n",
       "      <td>0</td>\n",
       "      <td>0</td>\n",
       "      <td>0</td>\n",
       "      <td>7</td>\n",
       "      <td>2008</td>\n",
       "    </tr>\n",
       "    <tr>\n",
       "      <th>303</th>\n",
       "      <td>20</td>\n",
       "      <td>118.0</td>\n",
       "      <td>13704</td>\n",
       "      <td>7</td>\n",
       "      <td>5</td>\n",
       "      <td>2001</td>\n",
       "      <td>2002</td>\n",
       "      <td>150.0</td>\n",
       "      <td>0</td>\n",
       "      <td>0</td>\n",
       "      <td>...</td>\n",
       "      <td>843</td>\n",
       "      <td>468</td>\n",
       "      <td>81</td>\n",
       "      <td>0</td>\n",
       "      <td>0</td>\n",
       "      <td>0</td>\n",
       "      <td>0</td>\n",
       "      <td>0</td>\n",
       "      <td>1</td>\n",
       "      <td>2006</td>\n",
       "    </tr>\n",
       "  </tbody>\n",
       "</table>\n",
       "<p>5 rows × 36 columns</p>\n",
       "</div>"
      ],
      "text/plain": [
       "     MSSubClass  LotFrontage  LotArea  OverallQual  OverallCond  YearBuilt  \\\n",
       "Id                                                                           \n",
       "619          20         90.0    11694            9            5       2007   \n",
       "871          20         60.0     6600            5            5       1962   \n",
       "93           30         80.0    13360            5            7       1921   \n",
       "818          20          NaN    13265            8            5       2002   \n",
       "303          20        118.0    13704            7            5       2001   \n",
       "\n",
       "     YearRemodAdd  MasVnrArea  BsmtFinSF1  BsmtFinSF2  ...  GarageArea  \\\n",
       "Id                                                     ...               \n",
       "619          2007       452.0          48           0  ...         774   \n",
       "871          1962         0.0           0           0  ...         308   \n",
       "93           2006         0.0         713           0  ...         432   \n",
       "818          2002       148.0        1218           0  ...         857   \n",
       "303          2002       150.0           0           0  ...         843   \n",
       "\n",
       "     WoodDeckSF  OpenPorchSF  EnclosedPorch  3SsnPorch  ScreenPorch  PoolArea  \\\n",
       "Id                                                                              \n",
       "619           0          108              0          0          260         0   \n",
       "871           0            0              0          0            0         0   \n",
       "93            0            0             44          0            0         0   \n",
       "818         150           59              0          0            0         0   \n",
       "303         468           81              0          0            0         0   \n",
       "\n",
       "     MiscVal  MoSold  YrSold  \n",
       "Id                            \n",
       "619        0       7    2007  \n",
       "871        0       8    2009  \n",
       "93         0       8    2009  \n",
       "818        0       7    2008  \n",
       "303        0       1    2006  \n",
       "\n",
       "[5 rows x 36 columns]"
      ]
     },
     "execution_count": 3,
     "metadata": {},
     "output_type": "execute_result"
    }
   ],
   "source": [
    "X_train.head()"
   ]
  },
  {
   "cell_type": "markdown",
   "id": "a9be733e",
   "metadata": {
    "papermill": {
     "duration": 0.011892,
     "end_time": "2024-01-25T20:37:14.705604",
     "exception": false,
     "start_time": "2024-01-25T20:37:14.693712",
     "status": "completed"
    },
    "tags": []
   },
   "source": [
    "You can already see a few missing values in the first several rows.  In the next step, you'll obtain a more comprehensive understanding of the missing values in the dataset.\n",
    "\n",
    "# Step 1: Preliminary investigation\n",
    "\n",
    "Run the code cell below without changes."
   ]
  },
  {
   "cell_type": "code",
   "execution_count": 4,
   "id": "85ce770a",
   "metadata": {
    "execution": {
     "iopub.execute_input": "2024-01-25T20:37:14.732263Z",
     "iopub.status.busy": "2024-01-25T20:37:14.731091Z",
     "iopub.status.idle": "2024-01-25T20:37:14.740359Z",
     "shell.execute_reply": "2024-01-25T20:37:14.739137Z"
    },
    "papermill": {
     "duration": 0.025092,
     "end_time": "2024-01-25T20:37:14.742842",
     "exception": false,
     "start_time": "2024-01-25T20:37:14.717750",
     "status": "completed"
    },
    "tags": []
   },
   "outputs": [
    {
     "name": "stdout",
     "output_type": "stream",
     "text": [
      "(1168, 36)\n",
      "LotFrontage    212\n",
      "MasVnrArea       6\n",
      "GarageYrBlt     58\n",
      "dtype: int64\n"
     ]
    }
   ],
   "source": [
    "# Shape of training data (num_rows, num_columns)\n",
    "print(X_train.shape)\n",
    "\n",
    "# Number of missing values in each column of training data\n",
    "missing_val_count_by_column = (X_train.isnull().sum())\n",
    "print(missing_val_count_by_column[missing_val_count_by_column > 0])"
   ]
  },
  {
   "cell_type": "markdown",
   "id": "cf9f4bac",
   "metadata": {
    "papermill": {
     "duration": 0.011582,
     "end_time": "2024-01-25T20:37:14.767191",
     "exception": false,
     "start_time": "2024-01-25T20:37:14.755609",
     "status": "completed"
    },
    "tags": []
   },
   "source": [
    "### Part A\n",
    "\n",
    "Use the above output to answer the questions below."
   ]
  },
  {
   "cell_type": "code",
   "execution_count": 5,
   "id": "5f575682",
   "metadata": {
    "execution": {
     "iopub.execute_input": "2024-01-25T20:37:14.793485Z",
     "iopub.status.busy": "2024-01-25T20:37:14.793025Z",
     "iopub.status.idle": "2024-01-25T20:37:14.803202Z",
     "shell.execute_reply": "2024-01-25T20:37:14.802419Z"
    },
    "papermill": {
     "duration": 0.026044,
     "end_time": "2024-01-25T20:37:14.805400",
     "exception": false,
     "start_time": "2024-01-25T20:37:14.779356",
     "status": "completed"
    },
    "tags": []
   },
   "outputs": [
    {
     "data": {
      "application/javascript": [
       "parent.postMessage({\"jupyterEvent\": \"custom.exercise_interaction\", \"data\": {\"outcomeType\": 1, \"valueTowardsCompletion\": 1.0, \"interactionType\": 1, \"questionType\": 1, \"questionId\": \"1.1_InvestigateEquality\", \"learnToolsVersion\": \"0.3.4\", \"failureMessage\": \"\", \"exceptionClass\": \"\", \"trace\": \"\"}}, \"*\")"
      ],
      "text/plain": [
       "<IPython.core.display.Javascript object>"
      ]
     },
     "metadata": {},
     "output_type": "display_data"
    },
    {
     "data": {
      "text/markdown": [
       "<span style=\"color:#33cc33\">Correct</span>"
      ],
      "text/plain": [
       "Correct"
      ]
     },
     "metadata": {},
     "output_type": "display_data"
    }
   ],
   "source": [
    "# Fill in the line below: How many rows are in the training data?\n",
    "num_rows = 1168\n",
    "\n",
    "# Fill in the line below: How many columns in the training data\n",
    "# have missing values?\n",
    "num_cols_with_missing = 3\n",
    "\n",
    "# Fill in the line below: How many missing entries are contained in \n",
    "# all of the training data?\n",
    "tot_missing = 276\n",
    "\n",
    "# Check your answers\n",
    "step_1.a.check()"
   ]
  },
  {
   "cell_type": "code",
   "execution_count": 6,
   "id": "a7a78858",
   "metadata": {
    "execution": {
     "iopub.execute_input": "2024-01-25T20:37:14.833005Z",
     "iopub.status.busy": "2024-01-25T20:37:14.831859Z",
     "iopub.status.idle": "2024-01-25T20:37:14.836266Z",
     "shell.execute_reply": "2024-01-25T20:37:14.835443Z"
    },
    "papermill": {
     "duration": 0.020671,
     "end_time": "2024-01-25T20:37:14.838612",
     "exception": false,
     "start_time": "2024-01-25T20:37:14.817941",
     "status": "completed"
    },
    "tags": []
   },
   "outputs": [],
   "source": [
    "# Lines below will give you a hint or solution code\n",
    "#step_1.a.hint()\n",
    "#step_1.a.solution()"
   ]
  },
  {
   "cell_type": "markdown",
   "id": "cef1e26d",
   "metadata": {
    "papermill": {
     "duration": 0.012143,
     "end_time": "2024-01-25T20:37:14.863550",
     "exception": false,
     "start_time": "2024-01-25T20:37:14.851407",
     "status": "completed"
    },
    "tags": []
   },
   "source": [
    "### Part B\n",
    "Considering your answers above, what do you think is likely the best approach to dealing with the missing values?"
   ]
  },
  {
   "cell_type": "code",
   "execution_count": 7,
   "id": "f5bcc817",
   "metadata": {
    "execution": {
     "iopub.execute_input": "2024-01-25T20:37:14.890538Z",
     "iopub.status.busy": "2024-01-25T20:37:14.890141Z",
     "iopub.status.idle": "2024-01-25T20:37:14.898494Z",
     "shell.execute_reply": "2024-01-25T20:37:14.897644Z"
    },
    "papermill": {
     "duration": 0.024547,
     "end_time": "2024-01-25T20:37:14.900667",
     "exception": false,
     "start_time": "2024-01-25T20:37:14.876120",
     "status": "completed"
    },
    "tags": []
   },
   "outputs": [
    {
     "data": {
      "application/javascript": [
       "parent.postMessage({\"jupyterEvent\": \"custom.exercise_interaction\", \"data\": {\"outcomeType\": 1, \"valueTowardsCompletion\": 1.0, \"interactionType\": 1, \"questionType\": 4, \"questionId\": \"1.2_InvestigateThought\", \"learnToolsVersion\": \"0.3.4\", \"failureMessage\": \"\", \"exceptionClass\": \"\", \"trace\": \"\"}}, \"*\")"
      ],
      "text/plain": [
       "<IPython.core.display.Javascript object>"
      ]
     },
     "metadata": {},
     "output_type": "display_data"
    },
    {
     "data": {
      "text/markdown": [
       "<span style=\"color:#33cc33\">Correct:</span> \n",
       "\n",
       "Since there are relatively few missing entries in the data (the column with the greatest percentage of missing values is missing less than 20% of its entries), we can expect that dropping columns is unlikely to yield good results.  This is because we'd be throwing away a lot of valuable data, and so imputation will likely perform better."
      ],
      "text/plain": [
       "Correct: \n",
       "\n",
       "Since there are relatively few missing entries in the data (the column with the greatest percentage of missing values is missing less than 20% of its entries), we can expect that dropping columns is unlikely to yield good results.  This is because we'd be throwing away a lot of valuable data, and so imputation will likely perform better."
      ]
     },
     "metadata": {},
     "output_type": "display_data"
    }
   ],
   "source": [
    "# Check your answer (Run this code cell to receive credit!)\n",
    "step_1.b.check()"
   ]
  },
  {
   "cell_type": "code",
   "execution_count": 8,
   "id": "20ae423d",
   "metadata": {
    "execution": {
     "iopub.execute_input": "2024-01-25T20:37:14.929135Z",
     "iopub.status.busy": "2024-01-25T20:37:14.928429Z",
     "iopub.status.idle": "2024-01-25T20:37:14.933000Z",
     "shell.execute_reply": "2024-01-25T20:37:14.931731Z"
    },
    "papermill": {
     "duration": 0.021478,
     "end_time": "2024-01-25T20:37:14.935436",
     "exception": false,
     "start_time": "2024-01-25T20:37:14.913958",
     "status": "completed"
    },
    "tags": []
   },
   "outputs": [],
   "source": [
    "#step_1.b.hint()"
   ]
  },
  {
   "cell_type": "markdown",
   "id": "4cd0d533",
   "metadata": {
    "papermill": {
     "duration": 0.012444,
     "end_time": "2024-01-25T20:37:14.960847",
     "exception": false,
     "start_time": "2024-01-25T20:37:14.948403",
     "status": "completed"
    },
    "tags": []
   },
   "source": [
    "To compare different approaches to dealing with missing values, you'll use the same `score_dataset()` function from the tutorial.  This function reports the [mean absolute error](https://en.wikipedia.org/wiki/Mean_absolute_error) (MAE) from a random forest model."
   ]
  },
  {
   "cell_type": "code",
   "execution_count": 9,
   "id": "bd99cb91",
   "metadata": {
    "execution": {
     "iopub.execute_input": "2024-01-25T20:37:14.988805Z",
     "iopub.status.busy": "2024-01-25T20:37:14.988377Z",
     "iopub.status.idle": "2024-01-25T20:37:15.353829Z",
     "shell.execute_reply": "2024-01-25T20:37:15.352782Z"
    },
    "papermill": {
     "duration": 0.382855,
     "end_time": "2024-01-25T20:37:15.356558",
     "exception": false,
     "start_time": "2024-01-25T20:37:14.973703",
     "status": "completed"
    },
    "tags": []
   },
   "outputs": [],
   "source": [
    "from sklearn.ensemble import RandomForestRegressor\n",
    "from sklearn.metrics import mean_absolute_error\n",
    "\n",
    "# Function for comparing different approaches\n",
    "def score_dataset(X_train, X_valid, y_train, y_valid):\n",
    "    model = RandomForestRegressor(n_estimators=100, random_state=0)\n",
    "    model.fit(X_train, y_train)\n",
    "    preds = model.predict(X_valid)\n",
    "    return mean_absolute_error(y_valid, preds)"
   ]
  },
  {
   "cell_type": "markdown",
   "id": "9ada737f",
   "metadata": {
    "papermill": {
     "duration": 0.013068,
     "end_time": "2024-01-25T20:37:15.382781",
     "exception": false,
     "start_time": "2024-01-25T20:37:15.369713",
     "status": "completed"
    },
    "tags": []
   },
   "source": [
    "# Step 2: Drop columns with missing values\n",
    "\n",
    "In this step, you'll preprocess the data in `X_train` and `X_valid` to remove columns with missing values.  Set the preprocessed DataFrames to `reduced_X_train` and `reduced_X_valid`, respectively.  "
   ]
  },
  {
   "cell_type": "code",
   "execution_count": 10,
   "id": "f2964950",
   "metadata": {
    "execution": {
     "iopub.execute_input": "2024-01-25T20:37:15.411125Z",
     "iopub.status.busy": "2024-01-25T20:37:15.410401Z",
     "iopub.status.idle": "2024-01-25T20:37:15.441716Z",
     "shell.execute_reply": "2024-01-25T20:37:15.440533Z"
    },
    "papermill": {
     "duration": 0.048724,
     "end_time": "2024-01-25T20:37:15.444553",
     "exception": false,
     "start_time": "2024-01-25T20:37:15.395829",
     "status": "completed"
    },
    "tags": []
   },
   "outputs": [
    {
     "data": {
      "application/javascript": [
       "parent.postMessage({\"jupyterEvent\": \"custom.exercise_interaction\", \"data\": {\"outcomeType\": 1, \"valueTowardsCompletion\": 1.0, \"interactionType\": 1, \"questionType\": 2, \"questionId\": \"2_DropMissing\", \"learnToolsVersion\": \"0.3.4\", \"failureMessage\": \"\", \"exceptionClass\": \"\", \"trace\": \"\"}}, \"*\")"
      ],
      "text/plain": [
       "<IPython.core.display.Javascript object>"
      ]
     },
     "metadata": {},
     "output_type": "display_data"
    },
    {
     "data": {
      "text/markdown": [
       "<span style=\"color:#33cc33\">Correct</span>"
      ],
      "text/plain": [
       "Correct"
      ]
     },
     "metadata": {},
     "output_type": "display_data"
    }
   ],
   "source": [
    "# Fill in the line below: get names of columns with missing values\n",
    "cols_with_missing = [col for col in X_train.columns\n",
    "                     if X_train[col].isnull().any()] # Your code here\n",
    "\n",
    "# Fill in the lines below: drop columns in training and validation data\n",
    "reduced_X_train = X_train.drop(cols_with_missing, axis=1)\n",
    "reduced_X_valid = X_valid.drop(cols_with_missing, axis=1)\n",
    "\n",
    "# Check your answers\n",
    "step_2.check()"
   ]
  },
  {
   "cell_type": "code",
   "execution_count": 11,
   "id": "a5c64de3",
   "metadata": {
    "execution": {
     "iopub.execute_input": "2024-01-25T20:37:15.473789Z",
     "iopub.status.busy": "2024-01-25T20:37:15.473266Z",
     "iopub.status.idle": "2024-01-25T20:37:15.478669Z",
     "shell.execute_reply": "2024-01-25T20:37:15.477494Z"
    },
    "papermill": {
     "duration": 0.022315,
     "end_time": "2024-01-25T20:37:15.480934",
     "exception": false,
     "start_time": "2024-01-25T20:37:15.458619",
     "status": "completed"
    },
    "tags": []
   },
   "outputs": [],
   "source": [
    "# Lines below will give you a hint or solution code\n",
    "#step_2.hint()\n",
    "#step_2.solution()"
   ]
  },
  {
   "cell_type": "markdown",
   "id": "99a2d060",
   "metadata": {
    "papermill": {
     "duration": 0.012921,
     "end_time": "2024-01-25T20:37:15.507390",
     "exception": false,
     "start_time": "2024-01-25T20:37:15.494469",
     "status": "completed"
    },
    "tags": []
   },
   "source": [
    "Run the next code cell without changes to obtain the MAE for this approach."
   ]
  },
  {
   "cell_type": "code",
   "execution_count": 12,
   "id": "4f61bf95",
   "metadata": {
    "execution": {
     "iopub.execute_input": "2024-01-25T20:37:15.535541Z",
     "iopub.status.busy": "2024-01-25T20:37:15.535108Z",
     "iopub.status.idle": "2024-01-25T20:37:16.853056Z",
     "shell.execute_reply": "2024-01-25T20:37:16.851588Z"
    },
    "papermill": {
     "duration": 1.335211,
     "end_time": "2024-01-25T20:37:16.855833",
     "exception": false,
     "start_time": "2024-01-25T20:37:15.520622",
     "status": "completed"
    },
    "tags": []
   },
   "outputs": [
    {
     "name": "stdout",
     "output_type": "stream",
     "text": [
      "MAE (Drop columns with missing values):\n",
      "17837.82570776256\n"
     ]
    }
   ],
   "source": [
    "print(\"MAE (Drop columns with missing values):\")\n",
    "print(score_dataset(reduced_X_train, reduced_X_valid, y_train, y_valid))"
   ]
  },
  {
   "cell_type": "markdown",
   "id": "0104a3e7",
   "metadata": {
    "papermill": {
     "duration": 0.013254,
     "end_time": "2024-01-25T20:37:16.946351",
     "exception": false,
     "start_time": "2024-01-25T20:37:16.933097",
     "status": "completed"
    },
    "tags": []
   },
   "source": [
    "# Step 3: Imputation\n",
    "\n",
    "### Part A\n",
    "\n",
    "Use the next code cell to impute missing values with the mean value along each column.  Set the preprocessed DataFrames to `imputed_X_train` and `imputed_X_valid`.  Make sure that the column names match those in `X_train` and `X_valid`."
   ]
  },
  {
   "cell_type": "code",
   "execution_count": 13,
   "id": "4cf2416c",
   "metadata": {
    "execution": {
     "iopub.execute_input": "2024-01-25T20:37:16.975770Z",
     "iopub.status.busy": "2024-01-25T20:37:16.975355Z",
     "iopub.status.idle": "2024-01-25T20:37:17.012489Z",
     "shell.execute_reply": "2024-01-25T20:37:17.011452Z"
    },
    "papermill": {
     "duration": 0.055297,
     "end_time": "2024-01-25T20:37:17.015389",
     "exception": false,
     "start_time": "2024-01-25T20:37:16.960092",
     "status": "completed"
    },
    "tags": []
   },
   "outputs": [
    {
     "data": {
      "application/javascript": [
       "parent.postMessage({\"jupyterEvent\": \"custom.exercise_interaction\", \"data\": {\"outcomeType\": 1, \"valueTowardsCompletion\": 1.0, \"interactionType\": 1, \"questionType\": 2, \"questionId\": \"3.1_ImputeCode\", \"learnToolsVersion\": \"0.3.4\", \"failureMessage\": \"\", \"exceptionClass\": \"\", \"trace\": \"\"}}, \"*\")"
      ],
      "text/plain": [
       "<IPython.core.display.Javascript object>"
      ]
     },
     "metadata": {},
     "output_type": "display_data"
    },
    {
     "data": {
      "text/markdown": [
       "<span style=\"color:#33cc33\">Correct</span>"
      ],
      "text/plain": [
       "Correct"
      ]
     },
     "metadata": {},
     "output_type": "display_data"
    }
   ],
   "source": [
    "from sklearn.impute import SimpleImputer\n",
    "\n",
    "# Fill in the lines below: imputation\n",
    "my_imputer = SimpleImputer() # Your code here\n",
    "imputed_X_train = pd.DataFrame(my_imputer.fit_transform(X_train))\n",
    "imputed_X_valid = pd.DataFrame(my_imputer.transform(X_valid))\n",
    "\n",
    "# Fill in the lines below: imputation removed column names; put them back\n",
    "imputed_X_train.columns = X_train.columns\n",
    "imputed_X_valid.columns = X_valid.columns\n",
    "\n",
    "# Check your answers\n",
    "step_3.a.check()"
   ]
  },
  {
   "cell_type": "code",
   "execution_count": 14,
   "id": "c8b25a22",
   "metadata": {
    "execution": {
     "iopub.execute_input": "2024-01-25T20:37:17.044983Z",
     "iopub.status.busy": "2024-01-25T20:37:17.044589Z",
     "iopub.status.idle": "2024-01-25T20:37:17.049519Z",
     "shell.execute_reply": "2024-01-25T20:37:17.048298Z"
    },
    "papermill": {
     "duration": 0.022458,
     "end_time": "2024-01-25T20:37:17.051853",
     "exception": false,
     "start_time": "2024-01-25T20:37:17.029395",
     "status": "completed"
    },
    "tags": []
   },
   "outputs": [],
   "source": [
    "# Lines below will give you a hint or solution code\n",
    "#step_3.a.hint()\n",
    "#step_3.a.solution()"
   ]
  },
  {
   "cell_type": "markdown",
   "id": "5f95e399",
   "metadata": {
    "papermill": {
     "duration": 0.013982,
     "end_time": "2024-01-25T20:37:17.079918",
     "exception": false,
     "start_time": "2024-01-25T20:37:17.065936",
     "status": "completed"
    },
    "tags": []
   },
   "source": [
    "Run the next code cell without changes to obtain the MAE for this approach."
   ]
  },
  {
   "cell_type": "code",
   "execution_count": 15,
   "id": "520340bb",
   "metadata": {
    "execution": {
     "iopub.execute_input": "2024-01-25T20:37:17.110191Z",
     "iopub.status.busy": "2024-01-25T20:37:17.109795Z",
     "iopub.status.idle": "2024-01-25T20:37:18.603246Z",
     "shell.execute_reply": "2024-01-25T20:37:18.601767Z"
    },
    "papermill": {
     "duration": 1.511762,
     "end_time": "2024-01-25T20:37:18.605932",
     "exception": false,
     "start_time": "2024-01-25T20:37:17.094170",
     "status": "completed"
    },
    "tags": []
   },
   "outputs": [
    {
     "name": "stdout",
     "output_type": "stream",
     "text": [
      "MAE (Imputation):\n",
      "18062.894611872147\n"
     ]
    }
   ],
   "source": [
    "print(\"MAE (Imputation):\")\n",
    "print(score_dataset(imputed_X_train, imputed_X_valid, y_train, y_valid))"
   ]
  },
  {
   "cell_type": "markdown",
   "id": "c7d8de3d",
   "metadata": {
    "papermill": {
     "duration": 0.0144,
     "end_time": "2024-01-25T20:37:18.635379",
     "exception": false,
     "start_time": "2024-01-25T20:37:18.620979",
     "status": "completed"
    },
    "tags": []
   },
   "source": [
    "### Part B\n",
    "\n",
    "Compare the MAE from each approach.  Does anything surprise you about the results?  Why do you think one approach performed better than the other?"
   ]
  },
  {
   "cell_type": "code",
   "execution_count": 16,
   "id": "817f8a87",
   "metadata": {
    "execution": {
     "iopub.execute_input": "2024-01-25T20:37:18.666558Z",
     "iopub.status.busy": "2024-01-25T20:37:18.666115Z",
     "iopub.status.idle": "2024-01-25T20:37:18.675236Z",
     "shell.execute_reply": "2024-01-25T20:37:18.674036Z"
    },
    "papermill": {
     "duration": 0.027945,
     "end_time": "2024-01-25T20:37:18.677500",
     "exception": false,
     "start_time": "2024-01-25T20:37:18.649555",
     "status": "completed"
    },
    "tags": []
   },
   "outputs": [
    {
     "data": {
      "application/javascript": [
       "parent.postMessage({\"jupyterEvent\": \"custom.exercise_interaction\", \"data\": {\"outcomeType\": 1, \"valueTowardsCompletion\": 1.0, \"interactionType\": 1, \"questionType\": 4, \"questionId\": \"3.2_ImputeThought\", \"learnToolsVersion\": \"0.3.4\", \"failureMessage\": \"\", \"exceptionClass\": \"\", \"trace\": \"\"}}, \"*\")"
      ],
      "text/plain": [
       "<IPython.core.display.Javascript object>"
      ]
     },
     "metadata": {},
     "output_type": "display_data"
    },
    {
     "data": {
      "text/markdown": [
       "<span style=\"color:#33cc33\">Correct:</span> \n",
       "\n",
       "Given that thre are so few missing values in the dataset, we'd expect imputation to perform better than dropping columns entirely.  However, we see that dropping columns performs slightly better!  While this can probably partially be attributed to noise in the dataset, another potential explanation is that the imputation method is not a great match to this dataset.  That is, maybe instead of filling in the mean value, it makes more sense to set every missing value to a value of 0, to fill in the most frequently encountered value, or to use some other method.  For instance, consider the `GarageYrBlt` column (which indicates the year that the garage was built).  It's likely that in some cases, a missing value could indicate a house that does not have a garage.  Does it make more sense to fill in the median value along each column in this case?  Or could we get better results by filling in the minimum value along each column?  It's not quite clear what's best in this case, but perhaps we can rule out some options immediately - for instance, setting missing values in this column to 0 is likely to yield horrible results!"
      ],
      "text/plain": [
       "Correct: \n",
       "\n",
       "Given that thre are so few missing values in the dataset, we'd expect imputation to perform better than dropping columns entirely.  However, we see that dropping columns performs slightly better!  While this can probably partially be attributed to noise in the dataset, another potential explanation is that the imputation method is not a great match to this dataset.  That is, maybe instead of filling in the mean value, it makes more sense to set every missing value to a value of 0, to fill in the most frequently encountered value, or to use some other method.  For instance, consider the `GarageYrBlt` column (which indicates the year that the garage was built).  It's likely that in some cases, a missing value could indicate a house that does not have a garage.  Does it make more sense to fill in the median value along each column in this case?  Or could we get better results by filling in the minimum value along each column?  It's not quite clear what's best in this case, but perhaps we can rule out some options immediately - for instance, setting missing values in this column to 0 is likely to yield horrible results!"
      ]
     },
     "metadata": {},
     "output_type": "display_data"
    }
   ],
   "source": [
    "# Check your answer (Run this code cell to receive credit!)\n",
    "step_3.b.check()"
   ]
  },
  {
   "cell_type": "code",
   "execution_count": 17,
   "id": "0e77cb86",
   "metadata": {
    "execution": {
     "iopub.execute_input": "2024-01-25T20:37:18.709001Z",
     "iopub.status.busy": "2024-01-25T20:37:18.708568Z",
     "iopub.status.idle": "2024-01-25T20:37:18.713534Z",
     "shell.execute_reply": "2024-01-25T20:37:18.712194Z"
    },
    "papermill": {
     "duration": 0.023967,
     "end_time": "2024-01-25T20:37:18.716026",
     "exception": false,
     "start_time": "2024-01-25T20:37:18.692059",
     "status": "completed"
    },
    "tags": []
   },
   "outputs": [],
   "source": [
    "#step_3.b.hint()"
   ]
  },
  {
   "cell_type": "markdown",
   "id": "eb85545e",
   "metadata": {
    "papermill": {
     "duration": 0.01468,
     "end_time": "2024-01-25T20:37:18.745661",
     "exception": false,
     "start_time": "2024-01-25T20:37:18.730981",
     "status": "completed"
    },
    "tags": []
   },
   "source": [
    "# Step 4: Generate test predictions\n",
    "\n",
    "In this final step, you'll use any approach of your choosing to deal with missing values.  Once you've preprocessed the training and validation features, you'll train and evaluate a random forest model.  Then, you'll preprocess the test data before generating predictions that can be submitted to the competition!\n",
    "\n",
    "### Part A\n",
    "\n",
    "Use the next code cell to preprocess the training and validation data.  Set the preprocessed DataFrames to `final_X_train` and `final_X_valid`.  **You can use any approach of your choosing here!**  in order for this step to be marked as correct, you need only ensure:\n",
    "- the preprocessed DataFrames have the same number of columns,\n",
    "- the preprocessed DataFrames have no missing values, \n",
    "- `final_X_train` and `y_train` have the same number of rows, and\n",
    "- `final_X_valid` and `y_valid` have the same number of rows."
   ]
  },
  {
   "cell_type": "code",
   "execution_count": 18,
   "id": "beb3d21f",
   "metadata": {
    "execution": {
     "iopub.execute_input": "2024-01-25T20:37:18.776979Z",
     "iopub.status.busy": "2024-01-25T20:37:18.776590Z",
     "iopub.status.idle": "2024-01-25T20:37:18.808522Z",
     "shell.execute_reply": "2024-01-25T20:37:18.807460Z"
    },
    "papermill": {
     "duration": 0.050813,
     "end_time": "2024-01-25T20:37:18.811108",
     "exception": false,
     "start_time": "2024-01-25T20:37:18.760295",
     "status": "completed"
    },
    "tags": []
   },
   "outputs": [
    {
     "data": {
      "application/javascript": [
       "parent.postMessage({\"jupyterEvent\": \"custom.exercise_interaction\", \"data\": {\"outcomeType\": 1, \"valueTowardsCompletion\": 1.0, \"interactionType\": 1, \"questionType\": 2, \"questionId\": \"4.1_PredsCodeA\", \"learnToolsVersion\": \"0.3.4\", \"failureMessage\": \"\", \"exceptionClass\": \"\", \"trace\": \"\"}}, \"*\")"
      ],
      "text/plain": [
       "<IPython.core.display.Javascript object>"
      ]
     },
     "metadata": {},
     "output_type": "display_data"
    },
    {
     "data": {
      "text/markdown": [
       "<span style=\"color:#33cc33\">Correct</span>"
      ],
      "text/plain": [
       "Correct"
      ]
     },
     "metadata": {},
     "output_type": "display_data"
    }
   ],
   "source": [
    "# Preprocessed training and validation features\n",
    "final_X_train = pd.DataFrame(my_imputer.fit_transform(X_train))\n",
    "final_X_train.columns = X_train.columns\n",
    "final_X_valid = pd.DataFrame(my_imputer.transform(X_valid))\n",
    "final_X_valid.columns = X_valid.columns\n",
    "\n",
    "# Check your answers\n",
    "step_4.a.check()"
   ]
  },
  {
   "cell_type": "code",
   "execution_count": 19,
   "id": "85fecd7b",
   "metadata": {
    "execution": {
     "iopub.execute_input": "2024-01-25T20:37:18.843253Z",
     "iopub.status.busy": "2024-01-25T20:37:18.842814Z",
     "iopub.status.idle": "2024-01-25T20:37:18.847665Z",
     "shell.execute_reply": "2024-01-25T20:37:18.846449Z"
    },
    "papermill": {
     "duration": 0.024059,
     "end_time": "2024-01-25T20:37:18.850351",
     "exception": false,
     "start_time": "2024-01-25T20:37:18.826292",
     "status": "completed"
    },
    "tags": []
   },
   "outputs": [],
   "source": [
    "# Lines below will give you a hint or solution code\n",
    "#step_4.a.hint()\n",
    "#step_4.a.solution()"
   ]
  },
  {
   "cell_type": "markdown",
   "id": "685bcb79",
   "metadata": {
    "papermill": {
     "duration": 0.014896,
     "end_time": "2024-01-25T20:37:18.880821",
     "exception": false,
     "start_time": "2024-01-25T20:37:18.865925",
     "status": "completed"
    },
    "tags": []
   },
   "source": [
    "Run the next code cell to train and evaluate a random forest model.  (*Note that we don't use the `score_dataset()` function above, because we will soon use the trained model to generate test predictions!*)"
   ]
  },
  {
   "cell_type": "code",
   "execution_count": 20,
   "id": "0ba5d319",
   "metadata": {
    "execution": {
     "iopub.execute_input": "2024-01-25T20:37:18.914405Z",
     "iopub.status.busy": "2024-01-25T20:37:18.913977Z",
     "iopub.status.idle": "2024-01-25T20:37:20.355294Z",
     "shell.execute_reply": "2024-01-25T20:37:20.353911Z"
    },
    "papermill": {
     "duration": 1.460819,
     "end_time": "2024-01-25T20:37:20.358145",
     "exception": false,
     "start_time": "2024-01-25T20:37:18.897326",
     "status": "completed"
    },
    "tags": []
   },
   "outputs": [
    {
     "name": "stdout",
     "output_type": "stream",
     "text": [
      "MAE (Your approach):\n",
      "18062.894611872147\n"
     ]
    }
   ],
   "source": [
    "# Define and fit model\n",
    "model = RandomForestRegressor(n_estimators=100, random_state=0)\n",
    "model.fit(final_X_train, y_train)\n",
    "\n",
    "# Get validation predictions and MAE\n",
    "preds_valid = model.predict(final_X_valid)\n",
    "print(\"MAE (Your approach):\")\n",
    "print(mean_absolute_error(y_valid, preds_valid))"
   ]
  },
  {
   "cell_type": "markdown",
   "id": "0d238ccd",
   "metadata": {
    "papermill": {
     "duration": 0.015422,
     "end_time": "2024-01-25T20:37:20.388897",
     "exception": false,
     "start_time": "2024-01-25T20:37:20.373475",
     "status": "completed"
    },
    "tags": []
   },
   "source": [
    "### Part B\n",
    "\n",
    "Use the next code cell to preprocess your test data.  Make sure that you use a method that agrees with how you preprocessed the training and validation data, and set the preprocessed test features to `final_X_test`.\n",
    "\n",
    "Then, use the preprocessed test features and the trained model to generate test predictions in `preds_test`.\n",
    "\n",
    "In order for this step to be marked correct, you need only ensure:\n",
    "- the preprocessed test DataFrame has no missing values, and\n",
    "- `final_X_test` has the same number of rows as `X_test`."
   ]
  },
  {
   "cell_type": "code",
   "execution_count": 21,
   "id": "ba12009f",
   "metadata": {
    "execution": {
     "iopub.execute_input": "2024-01-25T20:37:20.421744Z",
     "iopub.status.busy": "2024-01-25T20:37:20.421359Z",
     "iopub.status.idle": "2024-01-25T20:37:20.480841Z",
     "shell.execute_reply": "2024-01-25T20:37:20.479431Z"
    },
    "papermill": {
     "duration": 0.079206,
     "end_time": "2024-01-25T20:37:20.483396",
     "exception": false,
     "start_time": "2024-01-25T20:37:20.404190",
     "status": "completed"
    },
    "tags": []
   },
   "outputs": [
    {
     "data": {
      "application/javascript": [
       "parent.postMessage({\"jupyterEvent\": \"custom.exercise_interaction\", \"data\": {\"outcomeType\": 1, \"valueTowardsCompletion\": 1.0, \"interactionType\": 1, \"questionType\": 2, \"questionId\": \"4.2_PredsCodeB\", \"learnToolsVersion\": \"0.3.4\", \"failureMessage\": \"\", \"exceptionClass\": \"\", \"trace\": \"\"}}, \"*\")"
      ],
      "text/plain": [
       "<IPython.core.display.Javascript object>"
      ]
     },
     "metadata": {},
     "output_type": "display_data"
    },
    {
     "data": {
      "text/markdown": [
       "<span style=\"color:#33cc33\">Correct</span>"
      ],
      "text/plain": [
       "Correct"
      ]
     },
     "metadata": {},
     "output_type": "display_data"
    }
   ],
   "source": [
    "# Fill in the line below: preprocess test data\n",
    "final_X_test = pd.DataFrame(my_imputer.fit_transform(X_test))\n",
    "final_X_test.columns = X_test.columns\n",
    "\n",
    "# Fill in the line below: get test predictions\n",
    "preds_test = model.predict(final_X_test)\n",
    "\n",
    "# Check your answers\n",
    "step_4.b.check()"
   ]
  },
  {
   "cell_type": "code",
   "execution_count": 22,
   "id": "26d08ff6",
   "metadata": {
    "execution": {
     "iopub.execute_input": "2024-01-25T20:37:20.516051Z",
     "iopub.status.busy": "2024-01-25T20:37:20.515631Z",
     "iopub.status.idle": "2024-01-25T20:37:20.519816Z",
     "shell.execute_reply": "2024-01-25T20:37:20.518897Z"
    },
    "papermill": {
     "duration": 0.023257,
     "end_time": "2024-01-25T20:37:20.522070",
     "exception": false,
     "start_time": "2024-01-25T20:37:20.498813",
     "status": "completed"
    },
    "tags": []
   },
   "outputs": [],
   "source": [
    "# Lines below will give you a hint or solution code\n",
    "#step_4.b.hint()\n",
    "#step_4.b.solution()"
   ]
  },
  {
   "cell_type": "markdown",
   "id": "f235d3ea",
   "metadata": {
    "papermill": {
     "duration": 0.015183,
     "end_time": "2024-01-25T20:37:20.553036",
     "exception": false,
     "start_time": "2024-01-25T20:37:20.537853",
     "status": "completed"
    },
    "tags": []
   },
   "source": [
    "Run the next code cell without changes to save your results to a CSV file that can be submitted directly to the competition."
   ]
  },
  {
   "cell_type": "code",
   "execution_count": 23,
   "id": "96b04307",
   "metadata": {
    "execution": {
     "iopub.execute_input": "2024-01-25T20:37:20.586824Z",
     "iopub.status.busy": "2024-01-25T20:37:20.586418Z",
     "iopub.status.idle": "2024-01-25T20:37:20.600737Z",
     "shell.execute_reply": "2024-01-25T20:37:20.599580Z"
    },
    "papermill": {
     "duration": 0.034742,
     "end_time": "2024-01-25T20:37:20.603647",
     "exception": false,
     "start_time": "2024-01-25T20:37:20.568905",
     "status": "completed"
    },
    "tags": []
   },
   "outputs": [],
   "source": [
    "# Save test predictions to file\n",
    "output = pd.DataFrame({'Id': X_test.index,\n",
    "                       'SalePrice': preds_test})\n",
    "output.to_csv('submission.csv', index=False)"
   ]
  },
  {
   "cell_type": "markdown",
   "id": "7c0f22ad",
   "metadata": {
    "papermill": {
     "duration": 0.015635,
     "end_time": "2024-01-25T20:37:20.635413",
     "exception": false,
     "start_time": "2024-01-25T20:37:20.619778",
     "status": "completed"
    },
    "tags": []
   },
   "source": [
    "# Submit your results\n",
    "\n",
    "Once you have successfully completed Step 4, you're ready to submit your results to the leaderboard!  (_You also learned how to do this in the previous exercise.  If you need a reminder of how to do this, please use the instructions below._)  \n",
    "\n",
    "First, you'll need to join the competition if you haven't already.  So open a new window by clicking on [this link](https://www.kaggle.com/c/home-data-for-ml-course).  Then click on the **Join Competition** button.\n",
    "\n",
    "![join competition image](https://storage.googleapis.com/kaggle-media/learn/images/wLmFtH3.png)\n",
    "\n",
    "Next, follow the instructions below:\n",
    "1. Begin by clicking on the **Save Version** button in the top right corner of the window.  This will generate a pop-up window.  \n",
    "2. Ensure that the **Save and Run All** option is selected, and then click on the **Save** button.\n",
    "3. This generates a window in the bottom left corner of the notebook.  After it has finished running, click on the number to the right of the **Save Version** button.  This pulls up a list of versions on the right of the screen.  Click on the ellipsis **(...)** to the right of the most recent version, and select **Open in Viewer**.  This brings you into view mode of the same page. You will need to scroll down to get back to these instructions.\n",
    "4. Click on the **Data** tab near the top of the screen.  Then, click on the file you would like to submit, and click on the **Submit** button to submit your results to the leaderboard.\n",
    "\n",
    "You have now successfully submitted to the competition!\n",
    "\n",
    "If you want to keep working to improve your performance, select the **Edit** button in the top right of the screen. Then you can change your code and repeat the process. There's a lot of room to improve, and you will climb up the leaderboard as you work.\n",
    "\n",
    "\n",
    "# Keep going\n",
    "\n",
    "Move on to learn what **[categorical variables](https://www.kaggle.com/alexisbcook/categorical-variables)** are, along with how to incorporate them into your machine learning models.  Categorical variables are very common in real-world data, but you'll get an error if you try to plug them into your models without processing them first!"
   ]
  },
  {
   "cell_type": "markdown",
   "id": "5b6090db",
   "metadata": {
    "papermill": {
     "duration": 0.015812,
     "end_time": "2024-01-25T20:37:20.667398",
     "exception": false,
     "start_time": "2024-01-25T20:37:20.651586",
     "status": "completed"
    },
    "tags": []
   },
   "source": [
    "---\n",
    "\n",
    "\n",
    "\n",
    "\n",
    "*Have questions or comments? Visit the [course discussion forum](https://www.kaggle.com/learn/intermediate-machine-learning/discussion) to chat with other learners.*"
   ]
  }
 ],
 "metadata": {
  "kaggle": {
   "accelerator": "none",
   "dataSources": [
    {
     "databundleVersionId": 111096,
     "sourceId": 10211,
     "sourceType": "competition"
    }
   ],
   "isGpuEnabled": false,
   "isInternetEnabled": false,
   "language": "python",
   "sourceType": "notebook"
  },
  "kernelspec": {
   "display_name": "Python 3",
   "language": "python",
   "name": "python3"
  },
  "language_info": {
   "codemirror_mode": {
    "name": "ipython",
    "version": 3
   },
   "file_extension": ".py",
   "mimetype": "text/x-python",
   "name": "python",
   "nbconvert_exporter": "python",
   "pygments_lexer": "ipython3",
   "version": "3.10.12"
  },
  "papermill": {
   "default_parameters": {},
   "duration": 12.506552,
   "end_time": "2024-01-25T20:37:21.305899",
   "environment_variables": {},
   "exception": null,
   "input_path": "__notebook__.ipynb",
   "output_path": "__notebook__.ipynb",
   "parameters": {},
   "start_time": "2024-01-25T20:37:08.799347",
   "version": "2.4.0"
  }
 },
 "nbformat": 4,
 "nbformat_minor": 5
}
